{
 "cells": [
  {
   "cell_type": "markdown",
   "id": "7b83a8af-aab1-433a-b071-deff3ddba009",
   "metadata": {},
   "source": [
    "# \n",
    "Inspecting Web Pages with HTMnn"
   ]
  },
  {
   "cell_type": "code",
   "execution_count": null,
   "id": "548a607a-0552-4be9-af1b-68c2c5514629",
   "metadata": {},
   "outputs": [],
   "source": []
  }
 ],
 "metadata": {
  "kernelspec": {
   "display_name": "Python 3 (ipykernel)",
   "language": "python",
   "name": "python3"
  },
  "language_info": {
   "codemirror_mode": {
    "name": "ipython",
    "version": 3
   },
   "file_extension": ".py",
   "mimetype": "text/x-python",
   "name": "python",
   "nbconvert_exporter": "python",
   "pygments_lexer": "ipython3",
   "version": "3.12.7"
  }
 },
 "nbformat": 4,
 "nbformat_minor": 5
}
