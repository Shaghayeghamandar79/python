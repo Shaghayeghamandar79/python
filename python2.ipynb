{
 "cells": [
  {
   "cell_type": "markdown",
   "id": "102b43e4-b017-4ca6-8f4b-2097bbc13f46",
   "metadata": {},
   "source": [
    "# Data Types"
   ]
  },
  {
   "cell_type": "code",
   "execution_count": 1,
   "id": "5ff0a975-e354-4a1c-999e-b3c11221eb85",
   "metadata": {},
   "outputs": [
    {
     "data": {
      "text/plain": [
       "int"
      ]
     },
     "execution_count": 1,
     "metadata": {},
     "output_type": "execute_result"
    }
   ],
   "source": [
    "type(12)"
   ]
  },
  {
   "cell_type": "code",
   "execution_count": 4,
   "id": "7aa890ae-71b4-4cd4-80c3-9a0530f31746",
   "metadata": {},
   "outputs": [
    {
     "data": {
      "text/plain": [
       "int"
      ]
     },
     "execution_count": 4,
     "metadata": {},
     "output_type": "execute_result"
    }
   ],
   "source": [
    "type(-12)"
   ]
  },
  {
   "cell_type": "code",
   "execution_count": 6,
   "id": "c018b5c2-dec7-49b8-92a1-0df1d018cd84",
   "metadata": {},
   "outputs": [
    {
     "data": {
      "text/plain": [
       "int"
      ]
     },
     "execution_count": 6,
     "metadata": {},
     "output_type": "execute_result"
    }
   ],
   "source": [
    "type(-12+100)"
   ]
  },
  {
   "cell_type": "code",
   "execution_count": 8,
   "id": "27bb98ea-d621-4065-92a5-fbaba4031372",
   "metadata": {},
   "outputs": [
    {
     "data": {
      "text/plain": [
       "float"
      ]
     },
     "execution_count": 8,
     "metadata": {},
     "output_type": "execute_result"
    }
   ],
   "source": [
    "type(12+10.25)"
   ]
  },
  {
   "cell_type": "code",
   "execution_count": 12,
   "id": "28769084-f495-44be-8bd5-7461c20571d5",
   "metadata": {},
   "outputs": [
    {
     "data": {
      "text/plain": [
       "complex"
      ]
     },
     "execution_count": 12,
     "metadata": {},
     "output_type": "execute_result"
    }
   ],
   "source": [
    "type(12+14j)"
   ]
  },
  {
   "cell_type": "code",
   "execution_count": 14,
   "id": "f1d582de-8467-4008-aaad-06f2c502c844",
   "metadata": {},
   "outputs": [
    {
     "data": {
      "text/plain": [
       "bool"
      ]
     },
     "execution_count": 14,
     "metadata": {},
     "output_type": "execute_result"
    }
   ],
   "source": [
    "#Boolean\n",
    "\n",
    "type(True)"
   ]
  },
  {
   "cell_type": "code",
   "execution_count": 16,
   "id": "0c8ec7c7-cc71-4bba-9b95-0329951366af",
   "metadata": {},
   "outputs": [
    {
     "data": {
      "text/plain": [
       "bool"
      ]
     },
     "execution_count": 16,
     "metadata": {},
     "output_type": "execute_result"
    }
   ],
   "source": [
    "type(False)"
   ]
  },
  {
   "cell_type": "code",
   "execution_count": 18,
   "id": "ddebae9f-87ff-4c80-a52b-32412850d84b",
   "metadata": {},
   "outputs": [
    {
     "data": {
      "text/plain": [
       "bool"
      ]
     },
     "execution_count": 18,
     "metadata": {},
     "output_type": "execute_result"
    }
   ],
   "source": [
    "type(1>5)"
   ]
  },
  {
   "cell_type": "code",
   "execution_count": 20,
   "id": "3e255a7f-246c-481b-9d78-24cc6c1acf7a",
   "metadata": {},
   "outputs": [
    {
     "data": {
      "text/plain": [
       "False"
      ]
     },
     "execution_count": 20,
     "metadata": {},
     "output_type": "execute_result"
    }
   ],
   "source": [
    "1>5"
   ]
  },
  {
   "cell_type": "code",
   "execution_count": 24,
   "id": "435e7600-4844-4ba5-ba2d-8c4090345147",
   "metadata": {},
   "outputs": [
    {
     "data": {
      "text/plain": [
       "True"
      ]
     },
     "execution_count": 24,
     "metadata": {},
     "output_type": "execute_result"
    }
   ],
   "source": [
    "1==1"
   ]
  },
  {
   "cell_type": "code",
   "execution_count": 26,
   "id": "b3f560c7-104e-4f7b-ab5c-b91aa76e77ff",
   "metadata": {},
   "outputs": [
    {
     "data": {
      "text/plain": [
       "'Single Quote'"
      ]
     },
     "execution_count": 26,
     "metadata": {},
     "output_type": "execute_result"
    }
   ],
   "source": [
    "#Strings\n",
    "\n",
    "'Single Quote'"
   ]
  },
  {
   "cell_type": "code",
   "execution_count": 28,
   "id": "3a2450e6-76f7-4f25-b6bc-0092745f74d3",
   "metadata": {},
   "outputs": [
    {
     "data": {
      "text/plain": [
       "'Double Quote'"
      ]
     },
     "execution_count": 28,
     "metadata": {},
     "output_type": "execute_result"
    }
   ],
   "source": [
    "\"Double Quote\""
   ]
  },
  {
   "cell_type": "code",
   "execution_count": 32,
   "id": "a6e26b4b-f61e-4e1d-aa3f-812f182a1167",
   "metadata": {},
   "outputs": [],
   "source": [
    "multiline=\"\"\"\n",
    "The ice cream vanquished \n",
    "my longing for sweet,\n",
    "upon this diet I look away,\n",
    "it no longer exists on this day. \n",
    "\"\"\""
   ]
  },
  {
   "cell_type": "code",
   "execution_count": 34,
   "id": "2ad0d62e-1d3b-43dc-a2f0-46592224dfd0",
   "metadata": {},
   "outputs": [
    {
     "name": "stdout",
     "output_type": "stream",
     "text": [
      "\n",
      "The ice cream vanquished \n",
      "my longing for sweet,\n",
      "upon this diet I look away,\n",
      "it no longer exists on this day. \n",
      "\n"
     ]
    }
   ],
   "source": [
    "print(multiline)"
   ]
  },
  {
   "cell_type": "code",
   "execution_count": 52,
   "id": "a298570d-0a9f-4091-8bee-83c35855bfcf",
   "metadata": {},
   "outputs": [],
   "source": [
    "a=\"\"\"\n",
    "I've always wanted to eat a gallon of ice cream.\n",
    "\"\"\""
   ]
  },
  {
   "cell_type": "code",
   "execution_count": 54,
   "id": "390712a9-f7ab-4ec6-9a36-5e5c71944a1c",
   "metadata": {},
   "outputs": [
    {
     "name": "stdout",
     "output_type": "stream",
     "text": [
      "\n",
      "I've always wanted to eat a gallon of ice cream.\n",
      "\n"
     ]
    }
   ],
   "source": [
    "print(a)"
   ]
  },
  {
   "cell_type": "code",
   "execution_count": 56,
   "id": "0bcab0c0-1e0f-4553-9f77-084c93b9e536",
   "metadata": {},
   "outputs": [
    {
     "data": {
      "text/plain": [
       "str"
      ]
     },
     "execution_count": 56,
     "metadata": {},
     "output_type": "execute_result"
    }
   ],
   "source": [
    "type(multiline)"
   ]
  },
  {
   "cell_type": "code",
   "execution_count": 58,
   "id": "02f25d84-348d-4c56-95b6-47578b69a009",
   "metadata": {},
   "outputs": [],
   "source": [
    "b='Hello World!'"
   ]
  },
  {
   "cell_type": "code",
   "execution_count": 62,
   "id": "2c7753d0-abe5-4523-b54e-bb9aa69bad1e",
   "metadata": {},
   "outputs": [
    {
     "name": "stdout",
     "output_type": "stream",
     "text": [
      "Hello\n"
     ]
    }
   ],
   "source": [
    "print(b[:5])"
   ]
  },
  {
   "cell_type": "code",
   "execution_count": 68,
   "id": "c376c18c-7774-4238-8626-39d87b63262b",
   "metadata": {},
   "outputs": [
    {
     "name": "stdout",
     "output_type": "stream",
     "text": [
      "l\n"
     ]
    }
   ],
   "source": [
    "print(b[-3])"
   ]
  },
  {
   "cell_type": "code",
   "execution_count": 70,
   "id": "e82d2d1b-29a9-40e5-a9c3-0701305f8f9e",
   "metadata": {},
   "outputs": [
    {
     "name": "stdout",
     "output_type": "stream",
     "text": [
      "llo\n"
     ]
    }
   ],
   "source": [
    "print(b[2:5])"
   ]
  },
  {
   "cell_type": "code",
   "execution_count": 72,
   "id": "f5d238d8-3e40-4afb-9efa-18e6d8ad345a",
   "metadata": {},
   "outputs": [
    {
     "data": {
      "text/plain": [
       "'Hello World!Hello World!Hello World!'"
      ]
     },
     "execution_count": 72,
     "metadata": {},
     "output_type": "execute_result"
    }
   ],
   "source": [
    "b*3"
   ]
  },
  {
   "cell_type": "code",
   "execution_count": 74,
   "id": "3f6938a1-0fdd-40f1-9082-c8f80daa4649",
   "metadata": {},
   "outputs": [
    {
     "data": {
      "text/plain": [
       "'Hello World!Hello World!'"
      ]
     },
     "execution_count": 74,
     "metadata": {},
     "output_type": "execute_result"
    }
   ],
   "source": [
    "b+b"
   ]
  },
  {
   "cell_type": "code",
   "execution_count": 76,
   "id": "049c96b9-f069-4100-97aa-252834d59a1e",
   "metadata": {},
   "outputs": [
    {
     "data": {
      "text/plain": [
       "[1, 2, 3]"
      ]
     },
     "execution_count": 76,
     "metadata": {},
     "output_type": "execute_result"
    }
   ],
   "source": [
    "#list \n",
    "\n",
    "[1,2,3]"
   ]
  },
  {
   "cell_type": "code",
   "execution_count": 78,
   "id": "0a70971b-96d5-4094-85bb-7e7936ff3cbf",
   "metadata": {},
   "outputs": [
    {
     "data": {
      "text/plain": [
       "['Cookie Dough', 'Strawberry', 'Chocolate']"
      ]
     },
     "execution_count": 78,
     "metadata": {},
     "output_type": "execute_result"
    }
   ],
   "source": [
    "['Cookie Dough', 'Strawberry', 'Chocolate']"
   ]
  },
  {
   "cell_type": "code",
   "execution_count": 80,
   "id": "22f37234-e1d3-44c0-9cf2-1117a3ef3964",
   "metadata": {},
   "outputs": [
    {
     "data": {
      "text/plain": [
       "['Vanilla', 3, ['Scoops', 'Spoon'], True]"
      ]
     },
     "execution_count": 80,
     "metadata": {},
     "output_type": "execute_result"
    }
   ],
   "source": [
    "['Vanilla', 3, ['Scoops', 'Spoon'],True]"
   ]
  },
  {
   "cell_type": "code",
   "execution_count": 86,
   "id": "aa990e29-04d2-4fc9-8b4b-2ec7e0910f4d",
   "metadata": {},
   "outputs": [
    {
     "data": {
      "text/plain": [
       "['Cookie Dough', 'Strawberry', 'Chocolate', 'Salted Caramel']"
      ]
     },
     "execution_count": 86,
     "metadata": {},
     "output_type": "execute_result"
    }
   ],
   "source": [
    "ice_cream=['Cookie Dough', 'Strawberry', 'Chocolate']\n",
    "\n",
    "ice_cream.append('Salted Caramel')\n",
    "\n",
    "ice_cream"
   ]
  },
  {
   "cell_type": "code",
   "execution_count": 94,
   "id": "0930e2ff-f8f6-4eb5-b15b-717f71f8f6c5",
   "metadata": {},
   "outputs": [
    {
     "data": {
      "text/plain": [
       "['Butter Pecan', 'Strawberry', 'Chocolate', 'Salted Caramel']"
      ]
     },
     "execution_count": 94,
     "metadata": {},
     "output_type": "execute_result"
    }
   ],
   "source": [
    "ice_cream[0]='Butter Pecan'\n",
    "\n",
    "ice_cream"
   ]
  },
  {
   "cell_type": "code",
   "execution_count": 96,
   "id": "e8000a80-169b-4856-a89b-657eac318b06",
   "metadata": {},
   "outputs": [],
   "source": [
    "nest_list = ['Vanilla', 3, ['Scoops', 'Spoon'],True]"
   ]
  },
  {
   "cell_type": "code",
   "execution_count": 100,
   "id": "66a8e956-857e-42e8-9e37-9594dd89882b",
   "metadata": {},
   "outputs": [
    {
     "data": {
      "text/plain": [
       "['Scoops', 'Spoon']"
      ]
     },
     "execution_count": 100,
     "metadata": {},
     "output_type": "execute_result"
    }
   ],
   "source": [
    "nest_list[2]"
   ]
  },
  {
   "cell_type": "code",
   "execution_count": 102,
   "id": "4b48ff94-7d90-4638-a453-c0dc17080f32",
   "metadata": {},
   "outputs": [
    {
     "data": {
      "text/plain": [
       "'Spoon'"
      ]
     },
     "execution_count": 102,
     "metadata": {},
     "output_type": "execute_result"
    }
   ],
   "source": [
    "nest_list[2][1]"
   ]
  },
  {
   "cell_type": "code",
   "execution_count": 4,
   "id": "e28b5653-11c3-4142-bb63-f22bce115b4f",
   "metadata": {},
   "outputs": [],
   "source": [
    "#tuple\n",
    "\n",
    "tuple_scoops = (1,2,3,2,1)"
   ]
  },
  {
   "cell_type": "code",
   "execution_count": 6,
   "id": "d96a989f-d234-47dc-b793-e9219b0f4116",
   "metadata": {},
   "outputs": [
    {
     "data": {
      "text/plain": [
       "tuple"
      ]
     },
     "execution_count": 6,
     "metadata": {},
     "output_type": "execute_result"
    }
   ],
   "source": [
    "type(tuple_scoops)"
   ]
  },
  {
   "cell_type": "code",
   "execution_count": 8,
   "id": "0c1d5082-0e7d-4b88-a409-5548ca475b0e",
   "metadata": {},
   "outputs": [
    {
     "data": {
      "text/plain": [
       "1"
      ]
     },
     "execution_count": 8,
     "metadata": {},
     "output_type": "execute_result"
    }
   ],
   "source": [
    "tuple_scoops[0]"
   ]
  },
  {
   "cell_type": "code",
   "execution_count": 10,
   "id": "c8a6de54-e273-4e34-adfd-726bdacb9c02",
   "metadata": {},
   "outputs": [],
   "source": [
    "#Sets\n",
    "\n",
    "daily_pints = {1,2,3}"
   ]
  },
  {
   "cell_type": "code",
   "execution_count": 12,
   "id": "dd6b8387-aeb8-4917-be41-71775498228e",
   "metadata": {},
   "outputs": [
    {
     "data": {
      "text/plain": [
       "set"
      ]
     },
     "execution_count": 12,
     "metadata": {},
     "output_type": "execute_result"
    }
   ],
   "source": [
    "type(daily_pints)"
   ]
  },
  {
   "cell_type": "code",
   "execution_count": 14,
   "id": "35eec148-e1b8-49d7-9acc-860fd09e1d58",
   "metadata": {},
   "outputs": [
    {
     "name": "stdout",
     "output_type": "stream",
     "text": [
      "{1, 2, 3}\n"
     ]
    }
   ],
   "source": [
    "print(daily_pints)"
   ]
  },
  {
   "cell_type": "code",
   "execution_count": 16,
   "id": "0135a61d-8d3f-4336-b679-d741b2b77258",
   "metadata": {},
   "outputs": [],
   "source": [
    "daily_pints_log = {1,2,31,2,3,4,1,2,5,6,3,2}"
   ]
  },
  {
   "cell_type": "code",
   "execution_count": 20,
   "id": "48de56e5-a509-4e58-b991-dc7ad740b69a",
   "metadata": {},
   "outputs": [
    {
     "name": "stdout",
     "output_type": "stream",
     "text": [
      "{1, 2, 3, 4, 5, 6, 31}\n"
     ]
    }
   ],
   "source": [
    "print(daily_pints_log)"
   ]
  },
  {
   "cell_type": "code",
   "execution_count": 28,
   "id": "4174c23b-4b72-45b9-aade-a610be4e54f0",
   "metadata": {},
   "outputs": [
    {
     "name": "stdout",
     "output_type": "stream",
     "text": [
      "{1, 2, 3, 4, 5, 6, 65, 78, 85, 30, 31, 45}\n"
     ]
    }
   ],
   "source": [
    "wifes_daily_pints_log = {1,1,2,3,5,45,85,78,85,30,65,30}\n",
    "\n",
    "print(daily_pints_log | wifes_daily_pints_log )"
   ]
  },
  {
   "cell_type": "code",
   "execution_count": 30,
   "id": "1b0d9219-cbf8-4918-8fb3-41e1a07a3bac",
   "metadata": {},
   "outputs": [
    {
     "name": "stdout",
     "output_type": "stream",
     "text": [
      "{1, 2, 3, 5}\n"
     ]
    }
   ],
   "source": [
    "print(daily_pints_log & wifes_daily_pints_log )"
   ]
  },
  {
   "cell_type": "code",
   "execution_count": 32,
   "id": "56893937-5748-49cb-9745-6607d0529dfe",
   "metadata": {},
   "outputs": [
    {
     "name": "stdout",
     "output_type": "stream",
     "text": [
      "{4, 6, 31}\n"
     ]
    }
   ],
   "source": [
    "print(daily_pints_log - wifes_daily_pints_log )"
   ]
  },
  {
   "cell_type": "code",
   "execution_count": 34,
   "id": "055d6841-a579-4e09-817f-1de9b3718352",
   "metadata": {},
   "outputs": [
    {
     "name": "stdout",
     "output_type": "stream",
     "text": [
      "{65, 45, 78, 85, 30}\n"
     ]
    }
   ],
   "source": [
    "print(  wifes_daily_pints_log - daily_pints_log )"
   ]
  },
  {
   "cell_type": "code",
   "execution_count": 36,
   "id": "5fb4248f-270e-47b2-b587-e46ede1ef02e",
   "metadata": {},
   "outputs": [
    {
     "name": "stdout",
     "output_type": "stream",
     "text": [
      "{65, 4, 6, 45, 78, 85, 30, 31}\n"
     ]
    }
   ],
   "source": [
    "print( wifes_daily_pints_log ^ daily_pints_log )"
   ]
  },
  {
   "cell_type": "code",
   "execution_count": 38,
   "id": "adde728e-f4da-4c28-910c-88e85d6ee3db",
   "metadata": {},
   "outputs": [],
   "source": [
    "#dictionaries\n",
    "#key/value Pair\n",
    "\n",
    "dict_crem= {'name' : 'Shaghayegh Amandar', 'Weekly intake':5, 'favorite ice creams': ['MCC','Chocolate'] }\n"
   ]
  },
  {
   "cell_type": "code",
   "execution_count": 40,
   "id": "830ba492-c1bb-490a-bced-b2da5bf195b9",
   "metadata": {},
   "outputs": [
    {
     "data": {
      "text/plain": [
       "dict"
      ]
     },
     "execution_count": 40,
     "metadata": {},
     "output_type": "execute_result"
    }
   ],
   "source": [
    "type(dict_crem)"
   ]
  },
  {
   "cell_type": "code",
   "execution_count": 42,
   "id": "21a2869b-f7d7-430d-adb6-f375605d57ec",
   "metadata": {},
   "outputs": [
    {
     "name": "stdout",
     "output_type": "stream",
     "text": [
      "{'name': 'Shaghayegh Amandar', 'Weekly intake': 5, 'favorite ice creams': ['MCC', 'Chocolate']}\n"
     ]
    }
   ],
   "source": [
    "print(dict_crem)"
   ]
  },
  {
   "cell_type": "code",
   "execution_count": 44,
   "id": "4eb407da-01f0-4d88-9bba-fc99fdaccf73",
   "metadata": {},
   "outputs": [
    {
     "data": {
      "text/plain": [
       "dict_values(['Shaghayegh Amandar', 5, ['MCC', 'Chocolate']])"
      ]
     },
     "execution_count": 44,
     "metadata": {},
     "output_type": "execute_result"
    }
   ],
   "source": [
    "dict_crem.values()"
   ]
  },
  {
   "cell_type": "code",
   "execution_count": 46,
   "id": "3bc22dca-d93c-48e2-8246-dc820d6eee8b",
   "metadata": {},
   "outputs": [
    {
     "data": {
      "text/plain": [
       "dict_keys(['name', 'Weekly intake', 'favorite ice creams'])"
      ]
     },
     "execution_count": 46,
     "metadata": {},
     "output_type": "execute_result"
    }
   ],
   "source": [
    "dict_crem.keys()"
   ]
  },
  {
   "cell_type": "code",
   "execution_count": 48,
   "id": "98b0dba3-d22f-4ab8-a283-8f48f5d32579",
   "metadata": {},
   "outputs": [
    {
     "data": {
      "text/plain": [
       "dict_items([('name', 'Shaghayegh Amandar'), ('Weekly intake', 5), ('favorite ice creams', ['MCC', 'Chocolate'])])"
      ]
     },
     "execution_count": 48,
     "metadata": {},
     "output_type": "execute_result"
    }
   ],
   "source": [
    "dict_crem.items()"
   ]
  },
  {
   "cell_type": "code",
   "execution_count": 58,
   "id": "23953d85-694c-411a-9a73-8258c992a51a",
   "metadata": {},
   "outputs": [
    {
     "data": {
      "text/plain": [
       "'Shaghayegh Amandar'"
      ]
     },
     "execution_count": 58,
     "metadata": {},
     "output_type": "execute_result"
    }
   ],
   "source": [
    "dict_crem['name']"
   ]
  },
  {
   "cell_type": "code",
   "execution_count": 60,
   "id": "800cc16e-f319-4983-bb4e-9dd7e057eb24",
   "metadata": {},
   "outputs": [],
   "source": [
    "dict_crem['name']= 'Toba kohestani'"
   ]
  },
  {
   "cell_type": "code",
   "execution_count": 64,
   "id": "1d3802aa-f437-4a94-8efc-caf484b4d085",
   "metadata": {},
   "outputs": [
    {
     "name": "stdout",
     "output_type": "stream",
     "text": [
      "{'name': 'Toba kohestani', 'Weekly intake': 5, 'favorite ice creams': ['MCC', 'Chocolate']}\n"
     ]
    }
   ],
   "source": [
    "print(dict_crem)"
   ]
  },
  {
   "cell_type": "code",
   "execution_count": 68,
   "id": "9b537cdc-7fd6-458d-9b55-f88fc1ac9353",
   "metadata": {},
   "outputs": [
    {
     "name": "stdout",
     "output_type": "stream",
     "text": [
      "{'name': 'Toba kohestani', 'Weekly intake': 10, 'favorite ice creams': ['MCC', 'Chocolate'], 'weight': 300}\n"
     ]
    }
   ],
   "source": [
    "dict_crem.update({'name': 'Toba kohestani', 'Weekly intake': 10 , 'weight':300})\n",
    "\n",
    "print(dict_crem)"
   ]
  },
  {
   "cell_type": "code",
   "execution_count": 70,
   "id": "a16e65a3-27bf-4e9e-a405-d6bf977bf42b",
   "metadata": {},
   "outputs": [
    {
     "name": "stdout",
     "output_type": "stream",
     "text": [
      "{'name': 'Toba kohestani', 'Weekly intake': 10, 'favorite ice creams': ['MCC', 'Chocolate']}\n"
     ]
    }
   ],
   "source": [
    "del dict_crem['weight']\n",
    "\n",
    "print(dict_crem)"
   ]
  }
 ],
 "metadata": {
  "kernelspec": {
   "display_name": "Python 3 (ipykernel)",
   "language": "python",
   "name": "python3"
  },
  "language_info": {
   "codemirror_mode": {
    "name": "ipython",
    "version": 3
   },
   "file_extension": ".py",
   "mimetype": "text/x-python",
   "name": "python",
   "nbconvert_exporter": "python",
   "pygments_lexer": "ipython3",
   "version": "3.12.7"
  }
 },
 "nbformat": 4,
 "nbformat_minor": 5
}
