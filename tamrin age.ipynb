{
 "cells": [
  {
   "cell_type": "code",
   "execution_count": 12,
   "id": "841524a6-4558-4ddb-9c6f-b582aa1f7a90",
   "metadata": {},
   "outputs": [
    {
     "name": "stdin",
     "output_type": "stream",
     "text": [
      "Enter your name: behi\n",
      "Enter your age please: 40\n"
     ]
    },
    {
     "name": "stdout",
     "output_type": "stream",
     "text": [
      "behi , you are adult\n"
     ]
    }
   ],
   "source": [
    "name = input(\"Enter your name:\")\n",
    "\n",
    "age = int(input(\"Enter your age please:\"))\n",
    "\n",
    "if age < 13:\n",
    "    print(name + \" , you are children\")\n",
    "elif 13 <= age < 19:\n",
    "    print(name + \" , you are teenager\")\n",
    "elif 20 <= age < 64:\n",
    "    print(name + \" , you are adult\")\n",
    "elif age < 65:\n",
    "    print(name + \" , you are senior\")\n",
    "    "
   ]
  },
  {
   "cell_type": "code",
   "execution_count": null,
   "id": "5aaaa12a-b1a3-4a7f-a04e-0052998c20eb",
   "metadata": {},
   "outputs": [],
   "source": []
  }
 ],
 "metadata": {
  "kernelspec": {
   "display_name": "Python 3 (ipykernel)",
   "language": "python",
   "name": "python3"
  },
  "language_info": {
   "codemirror_mode": {
    "name": "ipython",
    "version": 3
   },
   "file_extension": ".py",
   "mimetype": "text/x-python",
   "name": "python",
   "nbconvert_exporter": "python",
   "pygments_lexer": "ipython3",
   "version": "3.12.7"
  }
 },
 "nbformat": 4,
 "nbformat_minor": 5
}
