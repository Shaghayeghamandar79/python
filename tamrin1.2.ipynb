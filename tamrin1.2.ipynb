{
 "cells": [
  {
   "cell_type": "markdown",
   "id": "7b1d7c22-46a7-4fb9-9f2d-eafd152de3c9",
   "metadata": {},
   "source": [
    "# Tamrin python1-2"
   ]
  },
  {
   "cell_type": "code",
   "execution_count": 3,
   "id": "4e68f3d5-f387-4c39-901c-0e91d8e7c550",
   "metadata": {},
   "outputs": [
    {
     "name": "stdout",
     "output_type": "stream",
     "text": [
      "4\n"
     ]
    }
   ],
   "source": [
    "x=4\n",
    "print(x)"
   ]
  },
  {
   "cell_type": "code",
   "execution_count": 5,
   "id": "e247619b-28ae-43fd-b243-d8e5702db8b3",
   "metadata": {},
   "outputs": [
    {
     "data": {
      "text/plain": [
       "int"
      ]
     },
     "execution_count": 5,
     "metadata": {},
     "output_type": "execute_result"
    }
   ],
   "source": [
    "type(x)"
   ]
  },
  {
   "cell_type": "code",
   "execution_count": 7,
   "id": "f42c34e3-5245-4b17-91df-d7f71fe37679",
   "metadata": {},
   "outputs": [
    {
     "name": "stdout",
     "output_type": "stream",
     "text": [
      "4.5\n"
     ]
    }
   ],
   "source": [
    "y=4.5\n",
    "print(y)"
   ]
  },
  {
   "cell_type": "code",
   "execution_count": 9,
   "id": "75ce2705-3fae-421b-a43a-b88742e034b7",
   "metadata": {},
   "outputs": [
    {
     "data": {
      "text/plain": [
       "float"
      ]
     },
     "execution_count": 9,
     "metadata": {},
     "output_type": "execute_result"
    }
   ],
   "source": [
    "type(y)"
   ]
  },
  {
   "cell_type": "code",
   "execution_count": 11,
   "id": "2cd0f322-5cff-430d-b138-3b98560b7cc6",
   "metadata": {},
   "outputs": [
    {
     "name": "stdout",
     "output_type": "stream",
     "text": [
      "(4+1.2j)\n"
     ]
    }
   ],
   "source": [
    "a=4+1.2j\n",
    "print(a)"
   ]
  },
  {
   "cell_type": "code",
   "execution_count": 13,
   "id": "ca40f5af-c7d7-4f8a-bac4-d35c3896d89a",
   "metadata": {},
   "outputs": [
    {
     "data": {
      "text/plain": [
       "complex"
      ]
     },
     "execution_count": 13,
     "metadata": {},
     "output_type": "execute_result"
    }
   ],
   "source": [
    "type(a)"
   ]
  },
  {
   "cell_type": "code",
   "execution_count": 15,
   "id": "37632243-abc5-4524-8a88-5b3a8681997d",
   "metadata": {},
   "outputs": [
    {
     "name": "stdout",
     "output_type": "stream",
     "text": [
      "shaghayegh amandar is mathamatical\n"
     ]
    }
   ],
   "source": [
    "t='shaghayegh amandar is mathamatical' \n",
    "\n",
    "print(t)"
   ]
  },
  {
   "cell_type": "code",
   "execution_count": 17,
   "id": "8089879a-4688-4106-bd27-b2c8291f7282",
   "metadata": {},
   "outputs": [
    {
     "data": {
      "text/plain": [
       "str"
      ]
     },
     "execution_count": 17,
     "metadata": {},
     "output_type": "execute_result"
    }
   ],
   "source": [
    "type(t)"
   ]
  },
  {
   "cell_type": "code",
   "execution_count": 19,
   "id": "376a5ca7-8550-47cc-b490-515ec6f99780",
   "metadata": {},
   "outputs": [
    {
     "name": "stdout",
     "output_type": "stream",
     "text": [
      "shaghayegh amandar asad\n"
     ]
    }
   ],
   "source": [
    "x,y,z = 'shaghayegh' , 'amandar', 'asad'\n",
    "\n",
    "print(x,y,z)"
   ]
  },
  {
   "cell_type": "code",
   "execution_count": 21,
   "id": "7bc919c1-08ec-491f-b467-c0623cea7816",
   "metadata": {},
   "outputs": [
    {
     "name": "stdout",
     "output_type": "stream",
     "text": [
      "shaghayeghamandarasad\n"
     ]
    }
   ],
   "source": [
    "print(x+y+z)"
   ]
  },
  {
   "cell_type": "code",
   "execution_count": 25,
   "id": "ef5f450b-bfa6-45c6-9759-b027f2eba6f0",
   "metadata": {},
   "outputs": [
    {
     "name": "stdout",
     "output_type": "stream",
     "text": [
      "shaghayegh amandar asad\n"
     ]
    }
   ],
   "source": [
    "print(x + ' ' + y + ' ' + z)"
   ]
  },
  {
   "cell_type": "code",
   "execution_count": 27,
   "id": "734ce120-1bea-463b-b1a7-3e0d0c75ce72",
   "metadata": {},
   "outputs": [
    {
     "name": "stdout",
     "output_type": "stream",
     "text": [
      "shaghayegh\n"
     ]
    }
   ],
   "source": [
    "print(x)"
   ]
  },
  {
   "cell_type": "code",
   "execution_count": 29,
   "id": "b33e8e09-c465-481d-96a5-c028e51edd80",
   "metadata": {},
   "outputs": [
    {
     "name": "stdout",
     "output_type": "stream",
     "text": [
      "amandar\n"
     ]
    }
   ],
   "source": [
    "print(y)"
   ]
  },
  {
   "cell_type": "code",
   "execution_count": 31,
   "id": "9ed0cc06-6164-444d-99d8-dc012f66567a",
   "metadata": {},
   "outputs": [
    {
     "name": "stdout",
     "output_type": "stream",
     "text": [
      "asad\n"
     ]
    }
   ],
   "source": [
    "print(z)"
   ]
  },
  {
   "cell_type": "code",
   "execution_count": 33,
   "id": "1124cf83-815c-4300-a57f-fea2dfd92454",
   "metadata": {},
   "outputs": [],
   "source": [
    "x=y=z"
   ]
  },
  {
   "cell_type": "code",
   "execution_count": 35,
   "id": "a977baca-63d0-46a0-b22c-851d6d116da6",
   "metadata": {},
   "outputs": [
    {
     "name": "stdout",
     "output_type": "stream",
     "text": [
      "asad asad asad\n"
     ]
    }
   ],
   "source": [
    "print(x,y,z)"
   ]
  },
  {
   "cell_type": "code",
   "execution_count": 39,
   "id": "499098c0-f470-4727-b21e-ae4d1416534e",
   "metadata": {},
   "outputs": [
    {
     "name": "stdout",
     "output_type": "stream",
     "text": [
      "asad 2\n"
     ]
    }
   ],
   "source": [
    "print(x,2)\n"
   ]
  },
  {
   "cell_type": "code",
   "execution_count": 41,
   "id": "f38b8380-032a-4f76-946a-97bbc9c5c0c1",
   "metadata": {},
   "outputs": [],
   "source": [
    "d=2+6"
   ]
  },
  {
   "cell_type": "code",
   "execution_count": 43,
   "id": "99d05abd-5513-40fd-9ef8-7571b7f5b1b6",
   "metadata": {},
   "outputs": [
    {
     "name": "stdout",
     "output_type": "stream",
     "text": [
      "8\n"
     ]
    }
   ],
   "source": [
    "print(d)"
   ]
  },
  {
   "cell_type": "code",
   "execution_count": 45,
   "id": "933253db-7d9e-4504-9193-8dd10a242a43",
   "metadata": {},
   "outputs": [
    {
     "data": {
      "text/plain": [
       "int"
      ]
     },
     "execution_count": 45,
     "metadata": {},
     "output_type": "execute_result"
    }
   ],
   "source": [
    "type(8)"
   ]
  },
  {
   "cell_type": "code",
   "execution_count": 47,
   "id": "19787a97-02cc-4896-b72a-5d67206dea0f",
   "metadata": {},
   "outputs": [
    {
     "data": {
      "text/plain": [
       "bool"
      ]
     },
     "execution_count": 47,
     "metadata": {},
     "output_type": "execute_result"
    }
   ],
   "source": [
    "type(True)"
   ]
  },
  {
   "cell_type": "code",
   "execution_count": 49,
   "id": "cb7770a4-dcd5-4e3f-a7f0-d5648c3e6990",
   "metadata": {},
   "outputs": [
    {
     "data": {
      "text/plain": [
       "bool"
      ]
     },
     "execution_count": 49,
     "metadata": {},
     "output_type": "execute_result"
    }
   ],
   "source": [
    "type(False)"
   ]
  },
  {
   "cell_type": "code",
   "execution_count": 51,
   "id": "556442d0-30ae-4768-b4d8-a839c9900b33",
   "metadata": {},
   "outputs": [
    {
     "data": {
      "text/plain": [
       "False"
      ]
     },
     "execution_count": 51,
     "metadata": {},
     "output_type": "execute_result"
    }
   ],
   "source": [
    "5>8"
   ]
  },
  {
   "cell_type": "code",
   "execution_count": 53,
   "id": "d47964e0-b19b-4035-a833-6ca778d80413",
   "metadata": {},
   "outputs": [
    {
     "data": {
      "text/plain": [
       "bool"
      ]
     },
     "execution_count": 53,
     "metadata": {},
     "output_type": "execute_result"
    }
   ],
   "source": [
    "type(5>8)"
   ]
  },
  {
   "cell_type": "code",
   "execution_count": 55,
   "id": "29397359-7197-45ad-b035-1291af9f6d09",
   "metadata": {},
   "outputs": [
    {
     "name": "stdout",
     "output_type": "stream",
     "text": [
      "Shaghayegh Amandar\n"
     ]
    }
   ],
   "source": [
    "s='Shaghayegh Amandar'\n",
    "\n",
    "print(s)"
   ]
  },
  {
   "cell_type": "code",
   "execution_count": 59,
   "id": "0c6ef1ae-02c1-4be0-b869-f89512b27298",
   "metadata": {},
   "outputs": [
    {
     "name": "stdout",
     "output_type": "stream",
     "text": [
      "Shagha\n"
     ]
    }
   ],
   "source": [
    "print(s[:6])"
   ]
  },
  {
   "cell_type": "code",
   "execution_count": 61,
   "id": "c95a9697-d9ed-4bf0-83b4-642bce4607d9",
   "metadata": {},
   "outputs": [
    {
     "name": "stdout",
     "output_type": "stream",
     "text": [
      "agha\n"
     ]
    }
   ],
   "source": [
    "print(s[2:6])"
   ]
  },
  {
   "cell_type": "code",
   "execution_count": 63,
   "id": "d27d0900-d900-4e60-8677-9398b23571b0",
   "metadata": {},
   "outputs": [
    {
     "name": "stdout",
     "output_type": "stream",
     "text": [
      "d\n"
     ]
    }
   ],
   "source": [
    "print(s[-3])"
   ]
  },
  {
   "cell_type": "code",
   "execution_count": 65,
   "id": "a8f974a5-5ea2-4e07-94d1-20e718d71690",
   "metadata": {},
   "outputs": [
    {
     "data": {
      "text/plain": [
       "'Shaghayegh AmandarShaghayegh AmandarShaghayegh AmandarShaghayegh AmandarShaghayegh AmandarShaghayegh Amandar'"
      ]
     },
     "execution_count": 65,
     "metadata": {},
     "output_type": "execute_result"
    }
   ],
   "source": [
    "s*6"
   ]
  },
  {
   "cell_type": "code",
   "execution_count": 67,
   "id": "4b23e322-1b3f-4567-a338-22c1f9f4c855",
   "metadata": {},
   "outputs": [
    {
     "data": {
      "text/plain": [
       "'Shaghayegh AmandarShaghayegh Amandar'"
      ]
     },
     "execution_count": 67,
     "metadata": {},
     "output_type": "execute_result"
    }
   ],
   "source": [
    "s+s"
   ]
  },
  {
   "cell_type": "code",
   "execution_count": 107,
   "id": "96b635bf-2438-4f41-a656-c48e7a3e3e8d",
   "metadata": {},
   "outputs": [
    {
     "data": {
      "text/plain": [
       "[4, 5, 6]"
      ]
     },
     "execution_count": 107,
     "metadata": {},
     "output_type": "execute_result"
    }
   ],
   "source": [
    "#list\n",
    "\n",
    "[4,5,6]"
   ]
  },
  {
   "cell_type": "code",
   "execution_count": 109,
   "id": "1ea5a748-0359-4183-b7a6-e825aaf68f57",
   "metadata": {},
   "outputs": [
    {
     "data": {
      "text/plain": [
       "['Shaghayegh', 'Asad', 'Toba']"
      ]
     },
     "execution_count": 109,
     "metadata": {},
     "output_type": "execute_result"
    }
   ],
   "source": [
    "['Shaghayegh', 'Asad' , 'Toba']"
   ]
  },
  {
   "cell_type": "code",
   "execution_count": 119,
   "id": "6392a7e7-5fd0-49e0-973d-344701e5d342",
   "metadata": {},
   "outputs": [],
   "source": [
    "m=['Shaghayegh' , 24 ,  ['Asad', 'Toba'] , 'Shahrzad', True]"
   ]
  },
  {
   "cell_type": "code",
   "execution_count": 121,
   "id": "aa09b8de-41ff-4cc4-b962-c46fa5b06a03",
   "metadata": {},
   "outputs": [],
   "source": [
    "m.append('Mehshid')"
   ]
  },
  {
   "cell_type": "code",
   "execution_count": 123,
   "id": "8fc253cd-f114-4fa8-b8c7-c83b58ee8fda",
   "metadata": {},
   "outputs": [
    {
     "data": {
      "text/plain": [
       "['Shaghayegh', 24, ['Asad', 'Toba'], 'Shahrzad', True, 'Mehshid']"
      ]
     },
     "execution_count": 123,
     "metadata": {},
     "output_type": "execute_result"
    }
   ],
   "source": [
    "m"
   ]
  },
  {
   "cell_type": "code",
   "execution_count": 127,
   "id": "d4d7c09d-5cb9-460f-8717-6c6ea49d518f",
   "metadata": {},
   "outputs": [
    {
     "data": {
      "text/plain": [
       "'Shaghayegh'"
      ]
     },
     "execution_count": 127,
     "metadata": {},
     "output_type": "execute_result"
    }
   ],
   "source": [
    "m[0]"
   ]
  },
  {
   "cell_type": "code",
   "execution_count": 129,
   "id": "df606ff1-2595-4d00-835e-a47b74e19690",
   "metadata": {},
   "outputs": [
    {
     "data": {
      "text/plain": [
       "['Asad', 'Toba']"
      ]
     },
     "execution_count": 129,
     "metadata": {},
     "output_type": "execute_result"
    }
   ],
   "source": [
    "m[2]"
   ]
  },
  {
   "cell_type": "code",
   "execution_count": 131,
   "id": "3928baa5-dd29-4510-a4e6-51eadaa6281d",
   "metadata": {},
   "outputs": [
    {
     "data": {
      "text/plain": [
       "'Toba'"
      ]
     },
     "execution_count": 131,
     "metadata": {},
     "output_type": "execute_result"
    }
   ],
   "source": [
    "m[2][1]"
   ]
  },
  {
   "cell_type": "code",
   "execution_count": 133,
   "id": "54fc3db3-4220-4da6-a260-dc4347f9b27c",
   "metadata": {},
   "outputs": [],
   "source": [
    "m[1] = 29"
   ]
  },
  {
   "cell_type": "code",
   "execution_count": 135,
   "id": "0101a727-de6b-4dbc-a8c1-34235fc1fba7",
   "metadata": {},
   "outputs": [
    {
     "data": {
      "text/plain": [
       "['Shaghayegh', 29, ['Asad', 'Toba'], 'Shahrzad', True, 'Mehshid']"
      ]
     },
     "execution_count": 135,
     "metadata": {},
     "output_type": "execute_result"
    }
   ],
   "source": [
    "m"
   ]
  },
  {
   "cell_type": "code",
   "execution_count": 139,
   "id": "dd1fdbbf-c7c5-4d6d-bdae-f18f1df898bf",
   "metadata": {},
   "outputs": [],
   "source": [
    "#tuple\n",
    "\n",
    "new_comment =  (20,100, 80,-6, 25,33)"
   ]
  },
  {
   "cell_type": "code",
   "execution_count": 141,
   "id": "dcfd4bd8-6036-404b-9caa-7603fea368d2",
   "metadata": {},
   "outputs": [
    {
     "data": {
      "text/plain": [
       "tuple"
      ]
     },
     "execution_count": 141,
     "metadata": {},
     "output_type": "execute_result"
    }
   ],
   "source": [
    "type(new_comment)"
   ]
  },
  {
   "cell_type": "code",
   "execution_count": 143,
   "id": "1236d48c-6dbd-4717-8c2d-e03d07db7b4d",
   "metadata": {},
   "outputs": [
    {
     "data": {
      "text/plain": [
       "20"
      ]
     },
     "execution_count": 143,
     "metadata": {},
     "output_type": "execute_result"
    }
   ],
   "source": [
    "new_comment[0]"
   ]
  },
  {
   "cell_type": "code",
   "execution_count": 145,
   "id": "c43013d2-1b10-42a3-ac02-40b3073bd6bd",
   "metadata": {},
   "outputs": [
    {
     "data": {
      "text/plain": [
       "25"
      ]
     },
     "execution_count": 145,
     "metadata": {},
     "output_type": "execute_result"
    }
   ],
   "source": [
    "new_comment[4]"
   ]
  },
  {
   "cell_type": "code",
   "execution_count": 175,
   "id": "8d136c3c-a575-4b16-9356-04a0ab5a75ac",
   "metadata": {},
   "outputs": [
    {
     "name": "stdout",
     "output_type": "stream",
     "text": [
      "{1, 2, 3, 4, 5, 6, 7, 8, 9, 10, 74, -5, -1}\n"
     ]
    }
   ],
   "source": [
    "#sets\n",
    "\n",
    "a={1,2,3,4,5,6,7,8,9,10,-1,-5,74}\n",
    "\n",
    "print(a)"
   ]
  },
  {
   "cell_type": "code",
   "execution_count": 177,
   "id": "88b5ae72-b85c-4a17-984b-17db9f9ccace",
   "metadata": {},
   "outputs": [
    {
     "name": "stdout",
     "output_type": "stream",
     "text": [
      "{1, 2, 3, 4, 5, 6, 10, 12, 78, -9, 56}\n"
     ]
    }
   ],
   "source": [
    "b={1,2,2,56,78,-9,12,10,1,2,3,4,5,6}\n",
    "\n",
    "print(b)"
   ]
  },
  {
   "cell_type": "code",
   "execution_count": 179,
   "id": "356d8c05-3671-43e7-b022-5f617367951e",
   "metadata": {},
   "outputs": [
    {
     "name": "stdout",
     "output_type": "stream",
     "text": [
      "{1, 2, 3, 4, 5, 6, 10}\n"
     ]
    }
   ],
   "source": [
    "print(a & b)"
   ]
  },
  {
   "cell_type": "code",
   "execution_count": 181,
   "id": "f1ba567e-03fa-4f9b-a4ae-ca2aaee24550",
   "metadata": {},
   "outputs": [
    {
     "name": "stdout",
     "output_type": "stream",
     "text": [
      "{7, 8, 9, 74, -5, -1}\n"
     ]
    }
   ],
   "source": [
    "print(a - b)"
   ]
  },
  {
   "cell_type": "code",
   "execution_count": 183,
   "id": "2c0593b1-cdba-4528-88bf-bebbce8c9004",
   "metadata": {},
   "outputs": [
    {
     "name": "stdout",
     "output_type": "stream",
     "text": [
      "{1, 2, 3, 4, 5, 6, 7, 8, 9, 10, 74, 12, 78, -9, 56, -5, -1}\n"
     ]
    }
   ],
   "source": [
    "print(a|b)"
   ]
  },
  {
   "cell_type": "code",
   "execution_count": 185,
   "id": "e44db562-9ab0-4348-8761-60705ead9718",
   "metadata": {},
   "outputs": [
    {
     "name": "stdout",
     "output_type": "stream",
     "text": [
      "{7, 8, 9, 74, 12, 78, -9, 56, -5, -1}\n"
     ]
    }
   ],
   "source": [
    "print(a^b)"
   ]
  },
  {
   "cell_type": "code",
   "execution_count": 197,
   "id": "c53fec62-52ed-49c0-9101-a1d594978fb1",
   "metadata": {},
   "outputs": [],
   "source": [
    "#dictionaries\n",
    "#key/value Pair\n",
    "\n",
    "dict_crem= {'name' : 'Shaghayegh Amandar', 'Weekly intake':7, 'favorite ice creams': ['MCC','Chocolate'] , 'weight' : [52], 'gender':['Female'] }"
   ]
  },
  {
   "cell_type": "code",
   "execution_count": 199,
   "id": "01d065d6-e8eb-4c88-936b-afe489eb89f2",
   "metadata": {},
   "outputs": [
    {
     "name": "stdout",
     "output_type": "stream",
     "text": [
      "{'name': 'Shaghayegh Amandar', 'Weekly intake': 7, 'favorite ice creams': ['MCC', 'Chocolate'], 'weight': [52], 'gender': ['Female']}\n"
     ]
    }
   ],
   "source": [
    "print(dict_crem)"
   ]
  },
  {
   "cell_type": "code",
   "execution_count": 201,
   "id": "d5af8bf2-48bb-4f71-b048-be96c7693e91",
   "metadata": {},
   "outputs": [
    {
     "data": {
      "text/plain": [
       "dict_values(['Shaghayegh Amandar', 7, ['MCC', 'Chocolate'], [52], ['Female']])"
      ]
     },
     "execution_count": 201,
     "metadata": {},
     "output_type": "execute_result"
    }
   ],
   "source": [
    "dict_crem.values()"
   ]
  },
  {
   "cell_type": "code",
   "execution_count": 203,
   "id": "fed4e751-92b9-4d13-916e-0cd9832d6352",
   "metadata": {},
   "outputs": [
    {
     "data": {
      "text/plain": [
       "dict_keys(['name', 'Weekly intake', 'favorite ice creams', 'weight', 'gender'])"
      ]
     },
     "execution_count": 203,
     "metadata": {},
     "output_type": "execute_result"
    }
   ],
   "source": [
    "dict_crem.keys()"
   ]
  },
  {
   "cell_type": "code",
   "execution_count": 205,
   "id": "458bb198-3ed1-412a-b6f9-ec90a987b461",
   "metadata": {},
   "outputs": [
    {
     "data": {
      "text/plain": [
       "dict_items([('name', 'Shaghayegh Amandar'), ('Weekly intake', 7), ('favorite ice creams', ['MCC', 'Chocolate']), ('weight', [52]), ('gender', ['Female'])])"
      ]
     },
     "execution_count": 205,
     "metadata": {},
     "output_type": "execute_result"
    }
   ],
   "source": [
    "dict_crem.items()"
   ]
  },
  {
   "cell_type": "code",
   "execution_count": 233,
   "id": "54e87c28-3624-4069-af6a-a08d2d03b174",
   "metadata": {},
   "outputs": [
    {
     "name": "stdout",
     "output_type": "stream",
     "text": [
      "{'name': 'Asad Amandar', 'Weekly intake': 5, 'favorite ice creams': ['MCC', 'Chocolate'], 'gender': ['Male'], 'weight': [69]}\n"
     ]
    }
   ],
   "source": [
    "dict_crem.update({'name': 'Asad Amandar', 'Weekly intake': 5, 'favorite ice creams': ['MCC', 'Chocolate'], 'weight': [69], 'gender': ['Male']})\n",
    "\n",
    "print(dict_crem)"
   ]
  },
  {
   "cell_type": "code",
   "execution_count": 235,
   "id": "75da542a-b95f-4dcf-8eba-36d71c712048",
   "metadata": {},
   "outputs": [],
   "source": [
    "del dict_crem ['Weekly intake']"
   ]
  },
  {
   "cell_type": "code",
   "execution_count": 237,
   "id": "711ba24d-bd73-4bc9-b729-7635f817c068",
   "metadata": {},
   "outputs": [
    {
     "name": "stdout",
     "output_type": "stream",
     "text": [
      "{'name': 'Asad Amandar', 'favorite ice creams': ['MCC', 'Chocolate'], 'gender': ['Male'], 'weight': [69]}\n"
     ]
    }
   ],
   "source": [
    "print(dict_crem )"
   ]
  }
 ],
 "metadata": {
  "kernelspec": {
   "display_name": "Python 3 (ipykernel)",
   "language": "python",
   "name": "python3"
  },
  "language_info": {
   "codemirror_mode": {
    "name": "ipython",
    "version": 3
   },
   "file_extension": ".py",
   "mimetype": "text/x-python",
   "name": "python",
   "nbconvert_exporter": "python",
   "pygments_lexer": "ipython3",
   "version": "3.12.7"
  }
 },
 "nbformat": 4,
 "nbformat_minor": 5
}
