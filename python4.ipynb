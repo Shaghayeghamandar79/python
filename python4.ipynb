{
 "cells": [
  {
   "cell_type": "markdown",
   "id": "71a8189f-ff86-445e-92ed-297ba221d3dc",
   "metadata": {},
   "source": [
    "# if- Elif - Else Statements"
   ]
  },
  {
   "cell_type": "code",
   "execution_count": 5,
   "id": "9288d1fb-2d3d-4df5-9cff-5a5e863d7a0a",
   "metadata": {},
   "outputs": [
    {
     "name": "stdout",
     "output_type": "stream",
     "text": [
      "It worked!\n"
     ]
    }
   ],
   "source": [
    "if 25 > 10:\n",
    "    print('It worked!')"
   ]
  },
  {
   "cell_type": "code",
   "execution_count": 11,
   "id": "fad9a50a-32a7-4100-abdb-33b804fc299e",
   "metadata": {},
   "outputs": [
    {
     "name": "stdout",
     "output_type": "stream",
     "text": [
      "It did not work...\n"
     ]
    }
   ],
   "source": [
    "if 25 < 10:\n",
    "    print('It worked!')\n",
    "else:\n",
    "    print('It did not work...')"
   ]
  },
  {
   "cell_type": "code",
   "execution_count": 13,
   "id": "950f61f5-9dcc-4976-9e99-c7bafaa73323",
   "metadata": {},
   "outputs": [
    {
     "name": "stdout",
     "output_type": "stream",
     "text": [
      "It worked!\n"
     ]
    }
   ],
   "source": [
    "if 25 > 10:\n",
    "    print('It worked!')\n",
    "else:\n",
    "    print('It did not work...')"
   ]
  },
  {
   "cell_type": "code",
   "execution_count": 15,
   "id": "4753c96a-cbfa-4109-b855-e6815b211726",
   "metadata": {},
   "outputs": [
    {
     "name": "stdout",
     "output_type": "stream",
     "text": [
      "elif worked!!\n"
     ]
    }
   ],
   "source": [
    "if 25 < 8:\n",
    "    print('It worked!')\n",
    "elif 85 < 95:\n",
    "    print('elif worked!!')\n",
    "else:\n",
    "    print('It did not work...')"
   ]
  },
  {
   "cell_type": "code",
   "execution_count": 17,
   "id": "363834e8-c259-4788-a5a2-11e8747533bb",
   "metadata": {},
   "outputs": [
    {
     "name": "stdout",
     "output_type": "stream",
     "text": [
      "It 4 worked!\n"
     ]
    }
   ],
   "source": [
    "if 10 <5:\n",
    "    print('It worked!')\n",
    "elif 20 < 5:\n",
    "    print('It 2 worked!')\n",
    "elif 30 < 6:\n",
    "    print('It 3 worked!')\n",
    "elif 25 < 36:\n",
    "    print ('It 4 worked!')\n",
    "else:\n",
    "    print('It did not work...')"
   ]
  },
  {
   "cell_type": "code",
   "execution_count": 19,
   "id": "fbe23d08-9901-499b-a02f-c3b57580304e",
   "metadata": {},
   "outputs": [
    {
     "name": "stdout",
     "output_type": "stream",
     "text": [
      "It worked!\n"
     ]
    }
   ],
   "source": [
    "if (10 <5) or (1<3):\n",
    "    print('It worked!')\n",
    "elif 20 < 5:\n",
    "    print('It 2 worked!')\n",
    "elif 30 < 6:\n",
    "    print('It 3 worked!')\n",
    "elif 25 < 36:\n",
    "    print ('It 4 worked!')\n",
    "else:\n",
    "    print('It did not work...')"
   ]
  },
  {
   "cell_type": "code",
   "execution_count": 21,
   "id": "eb18456b-96d6-44f3-966b-a2e4bb0ddd53",
   "metadata": {},
   "outputs": [
    {
     "name": "stdout",
     "output_type": "stream",
     "text": [
      "It did not work...\n"
     ]
    }
   ],
   "source": [
    "print('It worked!') if 10>30 else print('It did not work...')"
   ]
  },
  {
   "cell_type": "code",
   "execution_count": 39,
   "id": "bbe16314-a25a-47a2-9a99-b3b510149fc1",
   "metadata": {},
   "outputs": [
    {
     "name": "stdout",
     "output_type": "stream",
     "text": [
      "It worked!\n",
      "This nested if a statement worked!\n"
     ]
    }
   ],
   "source": [
    "if (10 <5) or (1<3):\n",
    "    print('It worked!')\n",
    "    if 10>5:\n",
    "        print('This nested if a statement worked!')\n",
    "elif 20 < 5:\n",
    "    print('It 2 worked!')\n",
    "elif 30 < 6:\n",
    "    print('It 3 worked!')\n",
    "elif 25 < 36:\n",
    "    print ('It 4 worked!')\n",
    "else:\n",
    "    print('It did not work...')"
   ]
  },
  {
   "cell_type": "code",
   "execution_count": 45,
   "id": "24c055e8-a234-4208-a3d0-6e06ad9a0ca4",
   "metadata": {},
   "outputs": [
    {
     "name": "stdin",
     "output_type": "stream",
     "text": [
      "Enter your age:  24\n"
     ]
    },
    {
     "name": "stdout",
     "output_type": "stream",
     "text": [
      "Welcome! You have full access ✅\n"
     ]
    }
   ],
   "source": [
    "age = int(input(\"Enter your age: \"))\n",
    "\n",
    "if age < 7:\n",
    "    print(\"You're too young! Go play some games 😄\")\n",
    "elif age <18:\n",
    "    print(\"This website is for teenagers 🎓\")\n",
    "elif age <= 40:\n",
    "    print (\"Welcome! You have full access ✅\")\n",
    "elif age <= 60:\n",
    "    print (\"Games? At your age? Come on! 😄\")\n",
    "else:\n",
    "    print(\"We have content for you too! Welcome 🌟\")"
   ]
  },
  {
   "cell_type": "code",
   "execution_count": null,
   "id": "ed71de98-b81b-4eaf-b958-0b9631b5bfee",
   "metadata": {},
   "outputs": [],
   "source": []
  }
 ],
 "metadata": {
  "kernelspec": {
   "display_name": "Python 3 (ipykernel)",
   "language": "python",
   "name": "python3"
  },
  "language_info": {
   "codemirror_mode": {
    "name": "ipython",
    "version": 3
   },
   "file_extension": ".py",
   "mimetype": "text/x-python",
   "name": "python",
   "nbconvert_exporter": "python",
   "pygments_lexer": "ipython3",
   "version": "3.12.7"
  }
 },
 "nbformat": 4,
 "nbformat_minor": 5
}
