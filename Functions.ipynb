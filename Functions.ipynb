{
 "cells": [
  {
   "cell_type": "markdown",
   "id": "20de34fe-bf85-4944-8304-fcef3abe7c90",
   "metadata": {},
   "source": [
    "# Functions "
   ]
  },
  {
   "cell_type": "code",
   "execution_count": 3,
   "id": "ffd3b635-dda4-4e5d-ba97-783953fd9c41",
   "metadata": {},
   "outputs": [],
   "source": [
    "def first_func():\n",
    "    print('We did it!')"
   ]
  },
  {
   "cell_type": "code",
   "execution_count": 5,
   "id": "54bf366d-8a9b-43ab-ac78-c49681e81d55",
   "metadata": {},
   "outputs": [
    {
     "name": "stdout",
     "output_type": "stream",
     "text": [
      "We did it!\n"
     ]
    }
   ],
   "source": [
    "first_func()"
   ]
  },
  {
   "cell_type": "code",
   "execution_count": 7,
   "id": "df9c555b-d7be-4a61-8a95-dac74bdb5914",
   "metadata": {},
   "outputs": [],
   "source": [
    "def number_squared(number):\n",
    "    print(number**2)"
   ]
  },
  {
   "cell_type": "code",
   "execution_count": 9,
   "id": "39d71137-2713-4062-b126-5e5d40119270",
   "metadata": {},
   "outputs": [
    {
     "name": "stdout",
     "output_type": "stream",
     "text": [
      "16\n"
     ]
    }
   ],
   "source": [
    "number_squared(4)"
   ]
  },
  {
   "cell_type": "code",
   "execution_count": 11,
   "id": "c29dc2df-60ce-464d-99dc-049bbad158f8",
   "metadata": {},
   "outputs": [],
   "source": [
    "def number_squared_cust(number,power):\n",
    "    print(number**power)"
   ]
  },
  {
   "cell_type": "code",
   "execution_count": 17,
   "id": "376df72d-3476-4cf5-8b8f-e290b28e6fce",
   "metadata": {},
   "outputs": [
    {
     "name": "stdout",
     "output_type": "stream",
     "text": [
      "1953125\n"
     ]
    }
   ],
   "source": [
    "number_squared_cust(5,9)"
   ]
  },
  {
   "cell_type": "code",
   "execution_count": 27,
   "id": "2561301f-f312-4b79-9ad9-33709b9b06ea",
   "metadata": {},
   "outputs": [],
   "source": [
    "\n",
    "args_tuple = (5,6,1,2,8)\n",
    "def number_args(*number):\n",
    "    print(number[0]*number[1])\n",
    "    "
   ]
  },
  {
   "cell_type": "code",
   "execution_count": 29,
   "id": "52821419-47fa-4df3-9ef2-af5db71c878b",
   "metadata": {},
   "outputs": [
    {
     "name": "stdout",
     "output_type": "stream",
     "text": [
      "30\n"
     ]
    }
   ],
   "source": [
    "number_args(*args_tuple)"
   ]
  },
  {
   "cell_type": "code",
   "execution_count": 31,
   "id": "c0c3b27d-0bcb-46eb-9a07-855eb346a31d",
   "metadata": {},
   "outputs": [],
   "source": [
    "def number_squared_cust(number,power):\n",
    "    print(number**power)"
   ]
  },
  {
   "cell_type": "code",
   "execution_count": 35,
   "id": "d0743534-6c35-48bb-acb8-97a18a0530be",
   "metadata": {},
   "outputs": [
    {
     "name": "stdout",
     "output_type": "stream",
     "text": [
      "243\n"
     ]
    }
   ],
   "source": [
    "number_squared_cust(power = 5,number =3)"
   ]
  },
  {
   "cell_type": "code",
   "execution_count": 77,
   "id": "cfd0b5da-54d9-4f1b-9e19-64363ecfdeb5",
   "metadata": {},
   "outputs": [],
   "source": [
    "def number_kwarg(**number):\n",
    "    print('My number is: ' + str(number['integer']) + ' My other number: ' + str(number['other_integer']))\n"
   ]
  },
  {
   "cell_type": "code",
   "execution_count": 81,
   "id": "af655300-b4a0-4bbf-9c8e-4f14ca596878",
   "metadata": {},
   "outputs": [
    {
     "name": "stdout",
     "output_type": "stream",
     "text": [
      "My number is: 5 My other number: 10\n"
     ]
    }
   ],
   "source": [
    "number_kwarg(integer=5, other_integer=10)"
   ]
  },
  {
   "cell_type": "code",
   "execution_count": null,
   "id": "a7b77a76-8c5e-4cee-a829-6b7f8c00c496",
   "metadata": {},
   "outputs": [],
   "source": []
  }
 ],
 "metadata": {
  "kernelspec": {
   "display_name": "Python 3 (ipykernel)",
   "language": "python",
   "name": "python3"
  },
  "language_info": {
   "codemirror_mode": {
    "name": "ipython",
    "version": 3
   },
   "file_extension": ".py",
   "mimetype": "text/x-python",
   "name": "python",
   "nbconvert_exporter": "python",
   "pygments_lexer": "ipython3",
   "version": "3.12.7"
  }
 },
 "nbformat": 4,
 "nbformat_minor": 5
}
