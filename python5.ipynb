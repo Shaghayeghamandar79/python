{
 "cells": [
  {
   "cell_type": "markdown",
   "id": "f0c3435e-199a-44e9-8a54-ac1b6c1e9101",
   "metadata": {},
   "source": [
    "# For Loops"
   ]
  },
  {
   "cell_type": "code",
   "execution_count": 3,
   "id": "e1396704-922a-4aaa-bc9f-0232fb118606",
   "metadata": {},
   "outputs": [],
   "source": [
    "integers=[1,2,3,4,5]"
   ]
  },
  {
   "cell_type": "code",
   "execution_count": 7,
   "id": "2ce351e3-0bfc-481b-bec0-9b12bb794f3a",
   "metadata": {},
   "outputs": [
    {
     "name": "stdout",
     "output_type": "stream",
     "text": [
      "1\n",
      "2\n",
      "3\n",
      "4\n",
      "5\n"
     ]
    }
   ],
   "source": [
    "for number in integers:\n",
    "    print(number)"
   ]
  },
  {
   "cell_type": "code",
   "execution_count": 9,
   "id": "a5a81d2b-dda6-4d13-9261-6d7089a9b3f9",
   "metadata": {},
   "outputs": [
    {
     "name": "stdout",
     "output_type": "stream",
     "text": [
      "yep!\n",
      "yep!\n",
      "yep!\n",
      "yep!\n",
      "yep!\n"
     ]
    }
   ],
   "source": [
    "for number in integers:\n",
    "    print('yep!')"
   ]
  },
  {
   "cell_type": "code",
   "execution_count": 11,
   "id": "bc768616-b032-48d6-b4e2-297303d1723f",
   "metadata": {},
   "outputs": [],
   "source": [
    "integers=[1,2,3,4,5]"
   ]
  },
  {
   "cell_type": "code",
   "execution_count": 15,
   "id": "72924a01-e624-4cf5-832c-9a0d26061f06",
   "metadata": {},
   "outputs": [
    {
     "name": "stdout",
     "output_type": "stream",
     "text": [
      "2\n",
      "4\n",
      "6\n",
      "8\n",
      "10\n"
     ]
    }
   ],
   "source": [
    "for jelly in integers:\n",
    "    print(jelly+jelly)"
   ]
  },
  {
   "cell_type": "code",
   "execution_count": 17,
   "id": "28c68f4b-12b4-44a2-a581-6439852bc045",
   "metadata": {},
   "outputs": [],
   "source": [
    "ice_cream_dict = {'name': 'Shaghayegh Amandar', 'weekly intake':5 , 'favorite ice creams':['MCC','Chocolate']}"
   ]
  },
  {
   "cell_type": "code",
   "execution_count": 19,
   "id": "92eefa8f-b673-4d41-b722-f26789452cbe",
   "metadata": {},
   "outputs": [
    {
     "name": "stdout",
     "output_type": "stream",
     "text": [
      "Shaghayegh Amandar\n",
      "5\n",
      "['MCC', 'Chocolate']\n"
     ]
    }
   ],
   "source": [
    "for cream in ice_cream_dict.values():\n",
    "    print(cream)"
   ]
  },
  {
   "cell_type": "code",
   "execution_count": 23,
   "id": "58ce80f1-8eaa-47b0-bae5-ab71eefbb7bc",
   "metadata": {},
   "outputs": [
    {
     "name": "stdout",
     "output_type": "stream",
     "text": [
      "name -> Shaghayegh Amandar\n",
      "weekly intake -> 5\n",
      "favorite ice creams -> ['MCC', 'Chocolate']\n"
     ]
    }
   ],
   "source": [
    "for key,value in ice_cream_dict.items():\n",
    "    print(key, '->',value)"
   ]
  },
  {
   "cell_type": "markdown",
   "id": "e1a0acdb-5fd5-4fcf-a27c-4ab99f48e9b9",
   "metadata": {},
   "source": [
    "# Nasted For Loops"
   ]
  },
  {
   "cell_type": "code",
   "execution_count": 28,
   "id": "3c4763b7-c3bd-4a54-816e-4c08930aacdc",
   "metadata": {},
   "outputs": [],
   "source": [
    "flavors = ['Vanilla', 'Chocolate' , 'Cookie Dough']\n",
    "toppings = ['Hot Fudge', 'Oreos' , 'Marshmellows']"
   ]
  },
  {
   "cell_type": "code",
   "execution_count": 30,
   "id": "a2de9ec2-40c3-4147-a000-2f12dc801a80",
   "metadata": {},
   "outputs": [
    {
     "name": "stdout",
     "output_type": "stream",
     "text": [
      "Vanilla topped with Hot Fudge\n",
      "Vanilla topped with Oreos\n",
      "Vanilla topped with Marshmellows\n",
      "Chocolate topped with Hot Fudge\n",
      "Chocolate topped with Oreos\n",
      "Chocolate topped with Marshmellows\n",
      "Cookie Dough topped with Hot Fudge\n",
      "Cookie Dough topped with Oreos\n",
      "Cookie Dough topped with Marshmellows\n"
     ]
    }
   ],
   "source": [
    "for one in flavors:\n",
    "    for two in toppings:\n",
    "        print(one , 'topped with' , two)"
   ]
  },
  {
   "cell_type": "code",
   "execution_count": 32,
   "id": "73250976-c053-473a-b273-4710a55a1436",
   "metadata": {},
   "outputs": [
    {
     "name": "stdout",
     "output_type": "stream",
     "text": [
      "Ali - Excellent\n",
      "Sara - Acceptable\n",
      "Reza - Weak\n",
      "Maryam - Acceptable\n",
      "Hamed - Weak\n"
     ]
    }
   ],
   "source": [
    "students = [\n",
    "    {\"name\": \"Ali\", \"grade\": 19.2},\n",
    "    {\"name\": \"Sara\", \"grade\": 14.5},\n",
    "    {\"name\": \"Reza\", \"grade\": 17.8},\n",
    "    {\"name\": \"Maryam\", \"grade\": 11.0},\n",
    "    {\"name\": \"Hamed\", \"grade\": 9.8}\n",
    "]\n",
    "\n",
    "for student in students:\n",
    "    grade = student[\"grade\"]  # دسترسی به معدل هر دانش‌آموز\n",
    "    \n",
    "    if 18 < grade < 20:\n",
    "        print(f\"{student['name']} - Excellent\")\n",
    "        if grade == 18:\n",
    "            print('Very Good')\n",
    "    elif 15 <= grade < 17:\n",
    "        print(f\"{student['name']} - Good\")\n",
    "        if grade == 17:\n",
    "            print('Goodly')\n",
    "    elif 10 <= grade < 15:\n",
    "        print(f\"{student['name']} - Acceptable\")\n",
    "    else:\n",
    "        print(f\"{student['name']} - Weak\")"
   ]
  },
  {
   "cell_type": "code",
   "execution_count": 34,
   "id": "74344a2f-8891-42be-943a-999a5d5fa99e",
   "metadata": {},
   "outputs": [],
   "source": [
    "integers = [1,2,3,4,5,6,7,8,9,10]"
   ]
  },
  {
   "cell_type": "code",
   "execution_count": 54,
   "id": "7df5afaf-9ef3-4a75-a3b0-26ad1a121181",
   "metadata": {},
   "outputs": [
    {
     "name": "stdout",
     "output_type": "stream",
     "text": [
      "   1    2    3    4    5    6    7    8    9   10 \n",
      "   2    4    6    8   10   12   14   16   18   20 \n",
      "   3    6    9   12   15   18   21   24   27   30 \n",
      "   4    8   12   16   20   24   28   32   36   40 \n",
      "   5   10   15   20   25   30   35   40   45   50 \n",
      "   6   12   18   24   30   36   42   48   54   60 \n",
      "   7   14   21   28   35   42   49   56   63   70 \n",
      "   8   16   24   32   40   48   56   64   72   80 \n",
      "   9   18   27   36   45   54   63   72   81   90 \n",
      "  10   20   30   40   50   60   70   80   90  100 \n"
     ]
    }
   ],
   "source": [
    "for i in integers:\n",
    "    for j in integers:\n",
    "         print(f\"{i*j:4}\", end=\" \")\n",
    "    print()  # برای رفتن به خط بعدی"
   ]
  },
  {
   "cell_type": "code",
   "execution_count": 44,
   "id": "54499aa6-e915-4f45-938c-026754688e3b",
   "metadata": {},
   "outputs": [],
   "source": [
    "g = ['a' , 'e', 'i' , 'o' ,'u']"
   ]
  },
  {
   "cell_type": "code",
   "execution_count": 56,
   "id": "aecb1c24-d0d7-4c17-a0ed-29a962ea5d86",
   "metadata": {},
   "outputs": [
    {
     "name": "stdout",
     "output_type": "stream",
     "text": [
      "a to do last week  a\n",
      "a to do last week  e\n",
      "a to do last week  i\n",
      "a to do last week  o\n",
      "a to do last week  u\n",
      "e to do last week  a\n",
      "e to do last week  e\n",
      "e to do last week  i\n",
      "e to do last week  o\n",
      "e to do last week  u\n",
      "i to do last week  a\n",
      "i to do last week  e\n",
      "i to do last week  i\n",
      "i to do last week  o\n",
      "i to do last week  u\n",
      "o to do last week  a\n",
      "o to do last week  e\n",
      "o to do last week  i\n",
      "o to do last week  o\n",
      "o to do last week  u\n",
      "u to do last week  a\n",
      "u to do last week  e\n",
      "u to do last week  i\n",
      "u to do last week  o\n",
      "u to do last week  u\n"
     ]
    }
   ],
   "source": [
    "for d in g:\n",
    "    for k in g:\n",
    "        print(d , 'to do last week ' , k)"
   ]
  },
  {
   "cell_type": "code",
   "execution_count": 52,
   "id": "2ace2021-6f80-40bd-9d38-0fb7ac40fbd4",
   "metadata": {},
   "outputs": [
    {
     "name": "stdin",
     "output_type": "stream",
     "text": [
      "Enter a sentence:  shaghayegh amandar \n"
     ]
    },
    {
     "name": "stdout",
     "output_type": "stream",
     "text": [
      "Number of vowels: 6\n"
     ]
    }
   ],
   "source": [
    "sentence = input(\"Enter a sentence: \")\n",
    "\n",
    "vowels = \"aeiouAEIOU\"\n",
    "count = 0\n",
    "\n",
    "for char in sentence:\n",
    "    if char in vowels:\n",
    "        count += 1\n",
    "\n",
    "print(f\"Number of vowels: {count}\")"
   ]
  },
  {
   "cell_type": "code",
   "execution_count": 58,
   "id": "d2ef6f1c-1faf-4742-b9f1-9d4955a5b0d4",
   "metadata": {},
   "outputs": [
    {
     "name": "stdin",
     "output_type": "stream",
     "text": [
      "Enter the product price:  500\n"
     ]
    },
    {
     "name": "stdout",
     "output_type": "stream",
     "text": [
      "Your discount is: 10.0%\n",
      "Final price after discount: 450.0 Toman\n"
     ]
    }
   ],
   "source": [
    "price = float(input(\"Enter the product price: \"))\n",
    "\n",
    "if price < 100:\n",
    "    discount = 0\n",
    "elif price <= 500:\n",
    "    discount = 0.1\n",
    "else:\n",
    "    discount = 0.2\n",
    "\n",
    "final_price = price - (price * discount)\n",
    "print(f\"Your discount is: {discount * 100}%\")\n",
    "print(f\"Final price after discount: {final_price} Toman\")"
   ]
  }
 ],
 "metadata": {
  "kernelspec": {
   "display_name": "Python 3 (ipykernel)",
   "language": "python",
   "name": "python3"
  },
  "language_info": {
   "codemirror_mode": {
    "name": "ipython",
    "version": 3
   },
   "file_extension": ".py",
   "mimetype": "text/x-python",
   "name": "python",
   "nbconvert_exporter": "python",
   "pygments_lexer": "ipython3",
   "version": "3.12.7"
  }
 },
 "nbformat": 4,
 "nbformat_minor": 5
}
